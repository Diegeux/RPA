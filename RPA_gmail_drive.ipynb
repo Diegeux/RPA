{
 "cells": [
  {
   "cell_type": "code",
   "execution_count": 163,
   "metadata": {},
   "outputs": [
    {
     "name": "stdout",
     "output_type": "stream",
     "text": [
      "Requirement already satisfied: pyautogui in c:\\users\\dell\\anaconda3\\lib\\site-packages (0.9.53)\n",
      "Requirement already satisfied: PyTweening>=1.0.1 in c:\\users\\dell\\anaconda3\\lib\\site-packages (from pyautogui) (1.0.3)\n",
      "Requirement already satisfied: pymsgbox in c:\\users\\dell\\anaconda3\\lib\\site-packages (from pyautogui) (1.0.9)\n",
      "Requirement already satisfied: pygetwindow>=0.0.5 in c:\\users\\dell\\anaconda3\\lib\\site-packages (from pyautogui) (0.0.9)\n",
      "Requirement already satisfied: mouseinfo in c:\\users\\dell\\anaconda3\\lib\\site-packages (from pyautogui) (0.1.3)\n",
      "Requirement already satisfied: pyscreeze>=0.1.21 in c:\\users\\dell\\anaconda3\\lib\\site-packages (from pyautogui) (0.1.27)\n",
      "Requirement already satisfied: pyrect in c:\\users\\dell\\anaconda3\\lib\\site-packages (from pygetwindow>=0.0.5->pyautogui) (0.1.4)\n",
      "Requirement already satisfied: pyperclip in c:\\users\\dell\\anaconda3\\lib\\site-packages (from mouseinfo->pyautogui) (1.8.2)\n",
      "Requirement already satisfied: Pillow>=6.2.1; python_version == \"3.8\" in c:\\users\\dell\\anaconda3\\lib\\site-packages (from pyscreeze>=0.1.21->pyautogui) (8.0.1)\n",
      "Note: you may need to restart the kernel to use updated packages.\n"
     ]
    }
   ],
   "source": [
    "pip install pyautogui"
   ]
  },
  {
   "cell_type": "code",
   "execution_count": 140,
   "metadata": {},
   "outputs": [],
   "source": [
    "import pyautogui\n",
    "import pyperclip\n",
    "import pandas as pd\n",
    "import numpy as np\n",
    "import matplotlib.pyplot as mp\n",
    "import time"
   ]
  },
  {
   "cell_type": "code",
   "execution_count": 146,
   "metadata": {},
   "outputs": [],
   "source": [
    "pyautogui.PAUSE = 1\n",
    "pyautogui.hotkey('ctrl','t')\n",
    "link = \"https://drive.google.com/drive/u/0/folders/1ioDWYgTkKQB6tBI2Phckp2T636GUb-PA\"\n",
    "pyperclip.copy(link)\n",
    "pyautogui.hotkey('ctrl','v')\n",
    "#pyautogui.write(\"https://drive.google.com/drive/u/0/folders/1ioDWYgTkKQB6tBI2Phckp2T636GUb-PA\")\n",
    "pyautogui.press(\"enter\")\n",
    "time.sleep(3)\n",
    "pyautogui.click(x=367, y=363, clicks=2)\n",
    "time.sleep(3)\n",
    "pyautogui.click(x=358, y=363, button=\"right\")\n",
    "time.sleep(4)\n",
    "pyautogui.click(x=482, y=686)\n",
    "time.sleep(5)"
   ]
  },
  {
   "cell_type": "code",
   "execution_count": 152,
   "metadata": {},
   "outputs": [
    {
     "data": {
      "text/html": [
       "<div>\n",
       "<style scoped>\n",
       "    .dataframe tbody tr th:only-of-type {\n",
       "        vertical-align: middle;\n",
       "    }\n",
       "\n",
       "    .dataframe tbody tr th {\n",
       "        vertical-align: top;\n",
       "    }\n",
       "\n",
       "    .dataframe thead th {\n",
       "        text-align: right;\n",
       "    }\n",
       "</style>\n",
       "<table border=\"1\" class=\"dataframe\">\n",
       "  <thead>\n",
       "    <tr style=\"text-align: right;\">\n",
       "      <th></th>\n",
       "      <th>Turmas</th>\n",
       "      <th>6 ano</th>\n",
       "      <th>7 ano</th>\n",
       "      <th>8 ano</th>\n",
       "      <th>9 ano</th>\n",
       "    </tr>\n",
       "  </thead>\n",
       "  <tbody>\n",
       "    <tr>\n",
       "      <th>0</th>\n",
       "      <td>1 Bimestre</td>\n",
       "      <td>5</td>\n",
       "      <td>8</td>\n",
       "      <td>11</td>\n",
       "      <td>8</td>\n",
       "    </tr>\n",
       "    <tr>\n",
       "      <th>1</th>\n",
       "      <td>2 Bimestre</td>\n",
       "      <td>8</td>\n",
       "      <td>6</td>\n",
       "      <td>9</td>\n",
       "      <td>13</td>\n",
       "    </tr>\n",
       "    <tr>\n",
       "      <th>2</th>\n",
       "      <td>3 Bimestre</td>\n",
       "      <td>10</td>\n",
       "      <td>6</td>\n",
       "      <td>5</td>\n",
       "      <td>9</td>\n",
       "    </tr>\n",
       "    <tr>\n",
       "      <th>3</th>\n",
       "      <td>4 Bimestre</td>\n",
       "      <td>7</td>\n",
       "      <td>12</td>\n",
       "      <td>10</td>\n",
       "      <td>4</td>\n",
       "    </tr>\n",
       "  </tbody>\n",
       "</table>\n",
       "</div>"
      ],
      "text/plain": [
       "       Turmas  6 ano  7 ano  8 ano  9 ano\n",
       "0  1 Bimestre      5      8     11      8\n",
       "1  2 Bimestre      8      6      9     13\n",
       "2  3 Bimestre     10      6      5      9\n",
       "3  4 Bimestre      7     12     10      4"
      ]
     },
     "execution_count": 152,
     "metadata": {},
     "output_type": "execute_result"
    }
   ],
   "source": [
    "dados = pd.read_excel(\"C:\\\\Users\\\\dell\\\\Desktop\\\\automacao_python.xlsx\")\n",
    "dados\n",
    "#Cada coluna representa a quantidade de alunos acima da média naquele bimestre"
   ]
  },
  {
   "cell_type": "code",
   "execution_count": 153,
   "metadata": {},
   "outputs": [],
   "source": [
    "media_6 = dados['6 ano'].mean()\n",
    "media_7 = dados['7 ano'].mean()\n",
    "media_8 = dados['8 ano'].mean()\n",
    "media_9 = dados['9 ano'].mean()"
   ]
  },
  {
   "cell_type": "code",
   "execution_count": 154,
   "metadata": {},
   "outputs": [
    {
     "name": "stdout",
     "output_type": "stream",
     "text": [
      "7.5 8.0 8.75 8.5\n"
     ]
    }
   ],
   "source": [
    "print(media_6, media_7, media_8, media_9)"
   ]
  },
  {
   "cell_type": "code",
   "execution_count": 155,
   "metadata": {},
   "outputs": [],
   "source": [
    "dp_6 = dados['6 ano'].std()\n",
    "dp_6 = round(dp_6, 2)\n",
    "dp_7 = dados['7 ano'].std()\n",
    "dp_7 = round(dp_7, 2)\n",
    "dp_8 = dados['8 ano'].std()\n",
    "dp_8 = round(dp_8, 2)\n",
    "dp_9 = dados['9 ano'].std()\n",
    "dp_9 = round(dp_9, 2)"
   ]
  },
  {
   "cell_type": "code",
   "execution_count": 156,
   "metadata": {},
   "outputs": [
    {
     "name": "stdout",
     "output_type": "stream",
     "text": [
      "2.08 2.83 2.63 3.7\n"
     ]
    }
   ],
   "source": [
    "print(dp_6, dp_7, dp_8, dp_9)"
   ]
  },
  {
   "cell_type": "code",
   "execution_count": 157,
   "metadata": {},
   "outputs": [
    {
     "data": {
      "image/png": "[encoded data removed]",
      "text/plain": [
       "<Figure size 432x288 with 1 Axes>"
      ]
     },
     "metadata": {
      "needs_background": "light"
     },
     "output_type": "display_data"
    }
   ],
   "source": [
    "mp.bar(\"Média 6\", media_6, label=media_6)\n",
    "mp.bar(\"Média 7\", media_7, label=media_7)\n",
    "mp.bar(\"Média 8\", media_8, label=media_8)\n",
    "mp.bar(\"Média 9\", media_9, label=media_9)\n",
    "mp.legend()\n",
    "mp.title(\"Médias\")\n",
    "mp.savefig('grafico_media.png', format='png')\n",
    "mp.show()"
   ]
  },
  {
   "cell_type": "code",
   "execution_count": 158,
   "metadata": {},
   "outputs": [
    {
     "data": {
      "image/png": "[encoded data removed]",
      "text/plain": [
       "<Figure size 432x288 with 1 Axes>"
      ]
     },
     "metadata": {
      "needs_background": "light"
     },
     "output_type": "display_data"
    }
   ],
   "source": [
    "mp.bar(\"Des_Padrão 6\", dp_6, label=dp_6)\n",
    "mp.bar(\"Des_Padrão 7\", dp_7, label=dp_7)\n",
    "mp.bar(\"Des_Padrão 8\", dp_8, label=dp_8)\n",
    "mp.bar(\"Des_Padrão 9\", dp_9, label=dp_9)\n",
    "mp.legend()\n",
    "mp.title(\"Desvios Padrões\")\n",
    "mp.savefig('grafico_desvio_padrao.png', format='png')\n",
    "mp.show()"
   ]
  },
  {
   "cell_type": "code",
   "execution_count": 160,
   "metadata": {},
   "outputs": [],
   "source": [
    "pyautogui.hotkey('ctrl','t')\n",
    "pyautogui.write('https://mail.google.com/')\n",
    "pyautogui.press(\"enter\")\n",
    "time.sleep(10)\n",
    "pyautogui.click(x=66, y=204)\n",
    "time.sleep(10)\n",
    "email=\"email_destinatário\"\n",
    "pyautogui.write(email)\n",
    "pyautogui.press(\"tab\")\n",
    "pyautogui.press(\"tab\")\n",
    "assunto = \"Relatório do Colégio\"\n",
    "pyperclip.copy(assunto)\n",
    "pyautogui.hotkey(\"ctrl\",'v')\n",
    "pyautogui.press(\"tab\")\n",
    "\n",
    "texto = f\"\"\"\n",
    "Prezados! Segue abaixo a quantidade da variacao de alunos acima da media nas turmas por bimestre. Por favor, observe que ha dois graficos em anexos: um mostrando a media, e o outro o desvio padrao das turmas.\n",
    "\n",
    "6° ano: {media_6} +- {dp_6} alunos acima da media por bimestre;\n",
    "7° ano: {media_7} +- {dp_7} alunos acima da media por bimestre;\n",
    "8° ano: {media_8} +- {dp_8} alunos acima da media por bimestre;\n",
    "9° ano: {media_9} +- {dp_9} alunos acima da media por bimestre;\n",
    "\n",
    "Att,\n",
    "Diego Oliveira - Automacao e Conectividade\"\"\"\n",
    "\n",
    "\n",
    "pyautogui.write(texto)\n",
    "\n",
    "file1=\"grafico_media\"\n",
    "file2=\"grafico_desvio_padrao\"\n",
    "pyautogui.click(x=963, y=738)\n",
    "pyautogui.click(x=99, y=181)\n",
    "pyautogui.click(x=185, y=414)\n",
    "pyautogui.write(file1)\n",
    "pyautogui.hotkey(\"ctrl\",\"enter\")\n",
    "pyautogui.click(x=963, y=738)\n",
    "pyautogui.click(x=99, y=181)\n",
    "pyautogui.click(x=185, y=414)\n",
    "pyautogui.write(file2)\n",
    "pyautogui.hotkey(\"ctrl\",\"enter\")\n",
    "time.sleep(5)\n",
    "pyautogui.hotkey(\"ctrl\",\"enter\")"
   ]
  },
  {
   "cell_type": "code",
   "execution_count": null,
   "metadata": {},
   "outputs": [],
   "source": [
    "time.sleep(5)\n",
    "pyautogui.position()"
   ]
  },
  {
   "cell_type": "code",
   "execution_count": null,
   "metadata": {},
   "outputs": [],
   "source": []
  }
 ],
 "metadata": {
  "kernelspec": {
   "display_name": "Python 3",
   "language": "python",
   "name": "python3"
  },
  "language_info": {
   "codemirror_mode": {
    "name": "ipython",
    "version": 3
   },
   "file_extension": ".py",
   "mimetype": "text/x-python",
   "name": "python",
   "nbconvert_exporter": "python",
   "pygments_lexer": "ipython3",
   "version": "3.8.5"
  }
 },
 "nbformat": 4,
 "nbformat_minor": 4
}
